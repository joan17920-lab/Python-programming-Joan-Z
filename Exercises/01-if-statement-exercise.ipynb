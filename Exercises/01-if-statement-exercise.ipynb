{
 "cells": [
  {
   "cell_type": "markdown",
   "metadata": {},
   "source": [
    "\n",
    "<a href=\"https://colab.research.google.com/github/pr0fez/AI24-Programmering/blob/master/Exercises/01-if-statement-exercise.ipynb\" target=\"_parent\"><img align=\"left\" src=\"https://colab.research.google.com/assets/colab-badge.svg\" alt=\"Open In Colab\"/></a> &nbsp; to see hints and answers."
   ]
  },
  {
   "cell_type": "markdown",
   "metadata": {},
   "source": [
    "# if statements exercises\n",
    "\n",
    "---\n",
    "These are introductory exercises in Python with focus in **if** statement.\n",
    "\n",
    "<p class = \"alert alert-info\" role=\"alert\"><b>Remember</b> to use <b>descriptive variable names</b> in order to get readable code </p>\n",
    "\n",
    "<p class = \"alert alert-info\" role=\"alert\"><b>Remember</b> to format your answers in a neat way using <b>f-strings</b>\n",
    "\n",
    "<p class = \"alert alert-info\" role=\"alert\"><b>Remember</b> to format your input questions in a pedagogical way to guide the user\n",
    "\n",
    "The number of stars (\\*), (\\*\\*), (\\*\\*\\*) denotes the difficulty level of the task\n",
    "\n",
    "---"
   ]
  },
  {
   "cell_type": "markdown",
   "metadata": {},
   "source": [
    "## 1. Check sign (*)\n",
    "\n",
    "Ask the user to input a number and check if this number is **positive**, **negative** or **zero** and print it."
   ]
  },
  {
   "cell_type": "code",
   "execution_count": 7,
   "metadata": {},
   "outputs": [
    {
     "name": "stdout",
     "output_type": "stream",
     "text": [
      "0 is Zero\n"
     ]
    }
   ],
   "source": [
    "number = input (\"Please enter an integer\")\n",
    "try:\n",
    "    number = int (number)\n",
    "    if number == 0:\n",
    "        print(f\"{number} is Zero\")\n",
    "    elif number > 0:\n",
    "        print (f\"{number} is a positiv number.\")\n",
    "    else:\n",
    "        print (f\"{number} is a negativ number.\")\n",
    "except :\n",
    "    print (\"You must enter en integer\")"
   ]
  },
  {
   "cell_type": "code",
   "execution_count": 13,
   "metadata": {},
   "outputs": [
    {
     "name": "stdout",
     "output_type": "stream",
     "text": [
      "-9 is a nagetiv number.\n"
     ]
    }
   ],
   "source": [
    "import numpy as np\n",
    "\n",
    "i = int(input (\"input a mumber\"))\n",
    "sign = np.sign(i)\n",
    "if sign == 1 :\n",
    "    print (f\"{i} is a positiv number.\")\n",
    "elif sign == -1:\n",
    "    print (f\"{i} is a nagetiv number.\")\n",
    "else:\n",
    "    print (f\"{i} is Zero\")\n",
    "\n",
    "    "
   ]
  },
  {
   "cell_type": "markdown",
   "metadata": {},
   "source": [
    "---\n",
    "## 2. Smallest (*)\n",
    "Ask the user to input two numbers and check which one is the smallest and print it out.   "
   ]
  },
  {
   "cell_type": "code",
   "execution_count": 3,
   "metadata": {},
   "outputs": [
    {
     "name": "stdout",
     "output_type": "stream",
     "text": [
      "50 is the smallest number\n"
     ]
    }
   ],
   "source": [
    "\n",
    "a,b = input (), input ()\n",
    "if a == b:\n",
    "    print (\"The numbers is same number.\")\n",
    "elif a > b:\n",
    "    print (f\"{b} is the smallest number\")\n",
    "else:\n",
    "     print (f\"{a} is the smallest number\")"
   ]
  },
  {
   "cell_type": "markdown",
   "metadata": {},
   "source": [
    "---\n",
    "## 3. Right angle (*)\n",
    "\n",
    "Ask the user to input three angles and check if the triangle has a right angle. Your code should make sure that all three angles are valid and make up a triangle.\n",
    "\n",
    "<img align=\"left\" src=\"../assets/triangle_angles.png\" width=\"200\"/>"
   ]
  },
  {
   "cell_type": "code",
   "execution_count": 2,
   "metadata": {},
   "outputs": [
    {
     "name": "stdout",
     "output_type": "stream",
     "text": [
      "input three angles\n"
     ]
    }
   ],
   "source": [
    "print(\"input three angles\")\n",
    "a, b, c = float(input()), float(input()), float(input())\n",
    " \n",
    "if a + b + c != 180:\n",
    "    print (\"Angles don't form a triangle!\")\n",
    "elif  a == 90 or  b==90 or c==90:\n",
    "    print (\"Triangle has a right angle\")"
   ]
  },
  {
   "cell_type": "markdown",
   "metadata": {},
   "source": [
    "----\n",
    "## 4. Medicine (*)\n",
    "\n",
    "The information in the following table is stated in a medicine package. Also it is stated that for children weight is more important than age.\n",
    "\n",
    "<table align=\"left\">\n",
    "<thead>\n",
    "    <tr>\n",
    "        <th></th>\n",
    "        <th>Age</th>\n",
    "        <th>Number of pills</th>\n",
    "    </tr>\n",
    "</thead>\n",
    "\n",
    "<tbody>\n",
    "  <tr>\n",
    "    <td>Adults & adolescent <br>over 40 kg</td>\n",
    "    <td>over 12 years</td>\n",
    "    <td>1-2</td>\n",
    "  </tr>\n",
    "\n",
    "  <tr>\n",
    "    <td>Children 26-40 kg</td>\n",
    "    <td>7-12 years</td>\n",
    "    <td>1/2-1</td>\n",
    "  </tr>\n",
    "\n",
    "  <tr>\n",
    "    <td>Children 15-25 kg</td>\n",
    "    <td>3-7 years</td>\n",
    "    <td>1/2</td>\n",
    "  </tr>\n",
    "</tbody>\n",
    "</table>"
   ]
  },
  {
   "cell_type": "markdown",
   "metadata": {},
   "source": [
    "Let the user input an **age** and a **weight**, the program should recommend the number of pills for the user."
   ]
  },
  {
   "cell_type": "code",
   "execution_count": 8,
   "metadata": {},
   "outputs": [
    {
     "name": "stdout",
     "output_type": "stream",
     "text": [
      "Recommed the number of pills is 1/2-1 \n"
     ]
    }
   ],
   "source": [
    "a, b = int(input (\"Please enter you age : \")), int(input (\"Please enter you weight (kg):\"))\n",
    "\n",
    "if a > 12 or b > 40:\n",
    "    print (\"Recommed the number of pills is 1-2 \")\n",
    "elif 7 < a <= 12 or 26 <= b <= 40:\n",
    "    print (\"Recommed the number of pills is 1/2-1 \")\n",
    "elif  3 <= a <= 7 or 15 <= b <= 25:\n",
    "    print (\"Recommed the number of pills is 1/2-1 \")\n",
    "else:\n",
    "        print (\"Ask docktor for recommed\" )\n",
    "\n",
    "    "
   ]
  },
  {
   "cell_type": "markdown",
   "metadata": {},
   "source": [
    "---\n",
    "## 5. Divisible (*)\n",
    "Let the user input a number. Check if the number is\n",
    "<ol type=\"a\">\n",
    "  <li>even or odd</li>\n",
    "  <li>is divisible by 5</li>\n",
    "  <li>is divisble by 5 and odd</li>\n",
    "</ol> "
   ]
  },
  {
   "cell_type": "code",
   "execution_count": 9,
   "metadata": {},
   "outputs": [
    {
     "name": "stdout",
     "output_type": "stream",
     "text": [
      "56 is even. \n"
     ]
    }
   ],
   "source": [
    "i = int(input(\"Please enter an integer\"))\n",
    "if i % 2 != 0 and i % 5 == 0:\n",
    "    print (f\"{i} is odd and divisble by 5\")\n",
    "elif i % 2 == 0 and i % 5 ==0:\n",
    "     print (f\"{i} is even and divisble by 5\")\n",
    "elif i % 2 == 0:\n",
    "    print (f\"{i} is even. \")\n",
    "else:\n",
    "    print (f\"{i} is odd. \")  \n"
   ]
  },
  {
   "cell_type": "markdown",
   "metadata": {},
   "source": [
    "---\n",
    "## 6. Luggage size (*)\n",
    "\n",
    "The maximum allowed luggage size for boarding an airplane is: \n",
    "- weight: 8kg\n",
    "- dimensions: 55x40x23cm (length x width x height) \n",
    "\n",
    "Let the user input weight, length, width and height of the luggage. The program should check if the luggage is allowed or not."
   ]
  },
  {
   "cell_type": "code",
   "execution_count": 10,
   "metadata": {},
   "outputs": [
    {
     "name": "stdout",
     "output_type": "stream",
     "text": [
      "The luggage is oversize and not allowed for boarding\n"
     ]
    }
   ],
   "source": [
    "a, b, c, d = int (input(\"Please enter weight of luggage (kg):\")), int (input(\"Please enter length of luggage (cm):\")), int (input(\"Please enter width of luggage (cm):\")),int (input(\"Please enter height of luggage (cm):\"))\n",
    "\n",
    "import statistics as sta\n",
    "len = max (b,c,d) ; hei = min (b,c,d) ; wid = sta. median([b,c,d])\n",
    "\n",
    "if a > 8:\n",
    "    print (\"The luggage is overweight and not allowed for boarding\")\n",
    "elif len > 55 or wid > 40 or hei > 23:\n",
    "    print (\"The luggage is oversize and not allowed for boarding\")\n",
    "else:\n",
    "    print (\"The luggage is allowed for boarding\")"
   ]
  },
  {
   "cell_type": "markdown",
   "metadata": {},
   "source": [
    "---\n",
    "\n",
    "pr0fez Giang\n",
    "\n",
    "[LinkedIn][linkedIn_pr0fez]\n",
    "\n",
    "[GitHub portfolio][github_portfolio]\n",
    "\n",
    "[linkedIn_pr0fez]: https://www.linkedin.com/in/pr0fezgiang/\n",
    "[github_portfolio]: https://github.com/pr0fez/Portfolio-pr0fez-Giang\n",
    "\n",
    "---"
   ]
  }
 ],
 "metadata": {
  "kernelspec": {
   "display_name": "Python 3",
   "language": "python",
   "name": "python3"
  },
  "language_info": {
   "codemirror_mode": {
    "name": "ipython",
    "version": 3
   },
   "file_extension": ".py",
   "mimetype": "text/x-python",
   "name": "python",
   "nbconvert_exporter": "python",
   "pygments_lexer": "ipython3",
   "version": "3.13.7"
  },
  "orig_nbformat": 4
 },
 "nbformat": 4,
 "nbformat_minor": 2
}
