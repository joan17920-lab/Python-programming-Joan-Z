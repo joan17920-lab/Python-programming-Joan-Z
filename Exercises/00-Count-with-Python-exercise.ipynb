{
 "cells": [
  {
   "cell_type": "code",
   "execution_count": null,
   "id": "8ae55d0c",
   "metadata": {},
   "outputs": [],
   "source": [
    "import math\n",
    "a = 3; b =4\n",
    "c = math.hypot(a, b)\n",
    "print (c)"
   ]
  },
  {
   "cell_type": "code",
   "execution_count": null,
   "id": "52ea4910",
   "metadata": {},
   "outputs": [],
   "source": [
    "import math\n",
    "def cathetus (a, c):\n",
    "  if a >= c:\n",
    "    print (\"Hypotus must > cathetus \")\n",
    "  else:\n",
    "   return math.sqrt (c**2 - a**2)\n",
    "\n",
    "print (cathetus(5, 7))"
   ]
  },
  {
   "cell_type": "code",
   "execution_count": 21,
   "id": "34bfcd10",
   "metadata": {},
   "outputs": [
    {
     "name": "stdout",
     "output_type": "stream",
     "text": [
      "Accuracy of Weather Forecast is  82.19%\n"
     ]
    }
   ],
   "source": [
    "a = 300; b =365\n",
    "c = '{:.2%}'.format(a / b)\n",
    "print (\"Accuracy of Weather Forecast is \", c)"
   ]
  },
  {
   "cell_type": "code",
   "execution_count": 22,
   "id": "e3e8f8c0",
   "metadata": {},
   "outputs": [
    {
     "name": "stdout",
     "output_type": "stream",
     "text": [
      "Accuracy of Weather Forecast is  82 %\n"
     ]
    }
   ],
   "source": [
    "a = 300; b =365\n",
    "c = (a / b)\n",
    "print (\"Accuracy of Weather Forecast is \", int(c*100),\"%\")"
   ]
  },
  {
   "cell_type": "code",
   "execution_count": null,
   "id": "61d4f9bc",
   "metadata": {},
   "outputs": [],
   "source": [
    "TP =2; FP =2; FN =11; TN =985\n",
    "Accuracy = '{:.2%}'.format((TP+TN)/(TP+TN+FP+FN))\n",
    "print (\"Accuracy of Fire Alarm is \", Accuracy)"
   ]
  },
  {
   "cell_type": "markdown",
   "id": "04e1dcf2",
   "metadata": {},
   "source": [
    "# 3. Classification accuracy (*)\n",
    "## Comments\n",
    "It is difficult to say that the model is good, because the most important task is to detect fire. Unfortunately, there were a total of 13 fires, and only 2 of them were detected."
   ]
  }
 ],
 "metadata": {
  "kernelspec": {
   "display_name": "Python 3",
   "language": "python",
   "name": "python3"
  },
  "language_info": {
   "codemirror_mode": {
    "name": "ipython",
    "version": 3
   },
   "file_extension": ".py",
   "mimetype": "text/x-python",
   "name": "python",
   "nbconvert_exporter": "python",
   "pygments_lexer": "ipython3",
   "version": "3.13.7"
  }
 },
 "nbformat": 4,
 "nbformat_minor": 5
}
