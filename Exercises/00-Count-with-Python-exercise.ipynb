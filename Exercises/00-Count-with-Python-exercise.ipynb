{
 "cells": [
  {
   "cell_type": "code",
   "execution_count": 58,
   "id": "8ae55d0c",
   "metadata": {},
   "outputs": [
    {
     "name": "stdout",
     "output_type": "stream",
     "text": [
      "The hypothenuse is 5.0 length units\n"
     ]
    }
   ],
   "source": [
    "# 1. Pythagorean answer a\n",
    "import math\n",
    "print (f\"The hypothenuse is {math.hypot(3,4)} length units\")"
   ]
  },
  {
   "cell_type": "code",
   "execution_count": 61,
   "id": "52ea4910",
   "metadata": {},
   "outputs": [
    {
     "name": "stdout",
     "output_type": "stream",
     "text": [
      "The other cathetus is 4.9 length units\n"
     ]
    }
   ],
   "source": [
    "# 1. Pythagorean answer b\n",
    "import math\n",
    "def cathetus (a, c):\n",
    "  if a >= c:\n",
    "    print (\"Hypotus must > cathetus \")\n",
    "  else:\n",
    "   return math.sqrt (c**2 - a**2)\n",
    "\n",
    "print (f\"The other cathetus is {cathetus(5, 7):.1f} length units\")"
   ]
  },
  {
   "cell_type": "code",
   "execution_count": null,
   "id": "34bfcd10",
   "metadata": {},
   "outputs": [
    {
     "name": "stdout",
     "output_type": "stream",
     "text": [
      "Accuracy of Weather Forecast is 82.19%\n"
     ]
    }
   ],
   "source": [
    "#2. Classification accuracy\n",
    "a = 300; b =365\n",
    "c = '{:.2%}'.format(a / b)\n",
    "print (\"Accuracy of Weather Forecast is\", c)"
   ]
  },
  {
   "cell_type": "code",
   "execution_count": null,
   "id": "61d4f9bc",
   "metadata": {},
   "outputs": [
    {
     "name": "stdout",
     "output_type": "stream",
     "text": [
      "Accuracy of Fire Alarm is 98.70%\n"
     ]
    }
   ],
   "source": [
    "#3. Classification accuracy\n",
    "TP =2; FP =2; FN =11; TN =985\n",
    "Accuracy = '{:.2%}'.format((TP+TN)/(TP+TN+FP+FN))\n",
    "print (f\"Accuracy of Fire Alarm is {Accuracy}\")"
   ]
  },
  {
   "cell_type": "markdown",
   "id": "04e1dcf2",
   "metadata": {},
   "source": [
    "# 3. Classification accuracy (*)\n",
    "## Comments\n",
    "It is difficult to say that the model is good, because the most important task is to detect fire. Unfortunately, there were a total of 13 fires, and only 2 of them were detected."
   ]
  },
  {
   "cell_type": "code",
   "execution_count": 16,
   "id": "f9b5c4f2",
   "metadata": {},
   "outputs": [
    {
     "name": "stdout",
     "output_type": "stream",
     "text": [
      "k=0.75, m=1.0, so the equation for the slope is y=0.75x+1.0\n"
     ]
    }
   ],
   "source": [
    "#4. Line (*)\n",
    "x1=0; x2=4; y1=1; y2=4\n",
    "k = (y2-y1)/(x2-x1)\n",
    "m = y1-k*x1\n",
    "print (f\"k={k}, m={m}, so the equation for the slope is y={k}x+{m}\")"
   ]
  },
  {
   "cell_type": "code",
   "execution_count": 20,
   "id": "b2578e41",
   "metadata": {},
   "outputs": [
    {
     "name": "stdout",
     "output_type": "stream",
     "text": [
      "The distance is aroud 5.1 length units\n"
     ]
    }
   ],
   "source": [
    "#5. Euclidean distance (*)\n",
    "import math\n",
    "x1=-2; x2=3; y1=4; y2=5\n",
    "d = round (math.sqrt((x2-x1)**2+(y2-y1)**2), 1)\n",
    "print (f\"The distance is aroud {d} length units\")"
   ]
  },
  {
   "cell_type": "code",
   "execution_count": 55,
   "id": "b61788b2",
   "metadata": {},
   "outputs": [
    {
     "name": "stdout",
     "output_type": "stream",
     "text": [
      "The distance is around 4.1 l.u.\n"
     ]
    }
   ],
   "source": [
    "#6. Euclidean distance in 3D (**)\n",
    "import math\n",
    "def D (p1, p2, p3, q1, q2, q3):\n",
    "    \n",
    "    return math.sqrt((p1-q1)**2+(p2-q2)**2+(p3-q3)**2)\n",
    "\n",
    "print (f\"The distance is around {D (2, 1, 4, 3, 1, 0):.1f} l.u.\")"
   ]
  }
 ],
 "metadata": {
  "kernelspec": {
   "display_name": "Python 3",
   "language": "python",
   "name": "python3"
  },
  "language_info": {
   "codemirror_mode": {
    "name": "ipython",
    "version": 3
   },
   "file_extension": ".py",
   "mimetype": "text/x-python",
   "name": "python",
   "nbconvert_exporter": "python",
   "pygments_lexer": "ipython3",
   "version": "3.13.7"
  }
 },
 "nbformat": 4,
 "nbformat_minor": 5
}
