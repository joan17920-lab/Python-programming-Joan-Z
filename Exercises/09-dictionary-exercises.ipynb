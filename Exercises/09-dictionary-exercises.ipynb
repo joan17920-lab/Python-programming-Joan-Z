{
 "cells": [
  {
   "cell_type": "markdown",
   "metadata": {},
   "source": [
    "\n",
    "<a href=\"https://colab.research.google.com/github/pr0fez/AI24-Programmering/blob/master/Exercises/09-dictionary-exercises.ipynb\" target=\"_parent\"><img align=\"left\" src=\"https://colab.research.google.com/assets/colab-badge.svg\" alt=\"Open In Colab\"/></a> &nbsp; to see hints and answers."
   ]
  },
  {
   "cell_type": "markdown",
   "metadata": {},
   "source": [
    "# dictionary exercises\n",
    "\n",
    "---\n",
    "These are introductory exercises in Python with focus in **dictionary**.\n",
    "\n",
    "<p class = \"alert alert-info\" role=\"alert\"><b>Remember</b> to use <b>descriptive variable and function names</b> in order to get readable code </p>\n",
    "\n",
    "<p class = \"alert alert-info\" role=\"alert\"><b>Remember</b> to format your answers in a neat way using <b>f-strings</b>\n",
    "\n",
    "<p class = \"alert alert-info\" role=\"alert\"><b>Remember</b> to format your input questions in a pedagogical way to guide the user\n",
    "\n",
    "The number of stars (\\*), (\\*\\*), (\\*\\*\\*) denotes the difficulty level of the task\n",
    "\n",
    "---"
   ]
  },
  {
   "cell_type": "markdown",
   "metadata": {},
   "source": [
    "## 1. Curriculum (*)\n",
    "\n",
    "Create a dictionary containing all the courses that you will study in this program, with the course names as **keys** and the amount of points as **value**. Then calculate the number of points that you will study in total. (*)\n",
    "\n",
    "<details>\n",
    "\n",
    "<summary>Answer</summary>\n",
    "\n",
    "Look at your course program curriculum\n",
    "\n",
    "</details>\n"
   ]
  },
  {
   "cell_type": "code",
   "execution_count": 4,
   "metadata": {},
   "outputs": [
    {
     "name": "stdout",
     "output_type": "stream",
     "text": [
      "You shoud stady in 400 points.\n"
     ]
    }
   ],
   "source": [
    "programm ={\"Examensarbete\": 15,\n",
    "    \"LIA 1\": 40,\n",
    "    \"LIA 2\": 70,\n",
    "    \"Djup Maskininlärning\": 40,\n",
    "    \"Data emngineering\":45, \n",
    "    \"Databaser\": 25,\n",
    "    \"Maskininlärning\":45,\n",
    "    \"Statistiskametorder\":30,\n",
    "    \"Linjär algebra\":20,\n",
    "    \"Databehandling\":25,\n",
    "    \"Python\":40,\n",
    "    \"Intro AI\":5}\n",
    "\n",
    "\n",
    "print (f\"You shoud stady in {sum (programm.values())} points.\")"
   ]
  },
  {
   "cell_type": "markdown",
   "metadata": {},
   "source": [
    "---\n",
    "## 2. Dice simulation (*)\n",
    "\n",
    "Simulate 1000000 dice rolls and save the number of ones, twos, ..., sixes in a dictionary. Then print them out in the terminal. (*)\n",
    "\n",
    "<details>\n",
    "\n",
    "<summary>Answer</summary>\n",
    "\n",
    "```\n",
    "1: 166481\n",
    "2: 166844\n",
    "3: 166154\n",
    "4: 167400\n",
    "5: 167260\n",
    "6: 165861\n",
    "```\n",
    "\n",
    "</details>\n"
   ]
  },
  {
   "cell_type": "code",
   "execution_count": 14,
   "metadata": {},
   "outputs": [
    {
     "name": "stdout",
     "output_type": "stream",
     "text": [
      "dict_items([(1, 0), (2, 0), (3, 0), (4, 0), (5, 0), (6, 0)])\n",
      "Dice simulation efter 1000000 {1: 166457, 2: 166460, 3: 166889, 4: 166480, 5: 166606, 6: 167108}\n"
     ]
    }
   ],
   "source": [
    "import random as rnd\n",
    "\n",
    "dice_simulation = {key:0 for key in range (1,7)}\n",
    "print (dice_simulation.items())\n",
    "for dice in range (1000000):\n",
    "    dice = rnd.randint(1,6)\n",
    "    for number, count in dice_simulation.items():\n",
    "        if dice ==number: \n",
    "            dice_simulation[number] +=1\n",
    "\n",
    "print(f\"Dice simulation efter 1000000 {dice_simulation}\")"
   ]
  },
  {
   "cell_type": "markdown",
   "metadata": {},
   "source": [
    "---\n",
    "## 3. Pokemon list (*)\n",
    "\n",
    "Read in the file pokemon_list.txt in Python. Create a variable with name pokedex with the key:value **\"pokemon\":\"type, index\"**. For example when searching for the keys \"Gengar\" and \"Pikachu\": (*)\n",
    "\n",
    "```python\n",
    "\n",
    "print(pokedex[\"Gengar\"])\n",
    "print(pokedex[\"Pikachu\"])\n",
    "\n",
    "Spöke/Gift, 94\n",
    "Elektrisk, 25\n",
    "```\n",
    "\n",
    "<details>\n",
    "\n",
    "<summary>Answer</summary>\n",
    "\n",
    "```\n",
    "{'Bulbasaur': 'Gräs/Gift, 1',\n",
    " 'Ivysaur': 'Gräs/Gift, 2',\n",
    " 'Venusaur': 'Gräs/Gift, 3',\n",
    " 'Charmander': 'Eld, 4',\n",
    " 'Charmeleon': 'Eld, 5',\n",
    " 'Charizard': 'Eld/Flygande, 6',\n",
    " 'Squirtle': 'Vatten, 7',\n",
    " 'Wartortle': 'Vatten, 8',\n",
    " 'Blastoise': 'Vatten, 9',\n",
    " ...\n",
    "}\n",
    "```\n",
    "\n",
    "</details>\n"
   ]
  },
  {
   "cell_type": "code",
   "execution_count": 21,
   "metadata": {},
   "outputs": [
    {
     "name": "stdout",
     "output_type": "stream",
     "text": [
      "<class 'numpy.ndarray'>\n"
     ]
    },
    {
     "name": "stderr",
     "output_type": "stream",
     "text": [
      "C:\\Users\\joan1\\AppData\\Local\\Temp\\ipykernel_34552\\2642540037.py:4: ConversionWarning: Some errors were detected !\n",
      "    Line #122 (got 4 columns instead of 3)\n",
      "  poke = np.genfromtxt(path,delimiter = \" \", dtype = \"str\", invalid_raise=False)\n"
     ]
    }
   ],
   "source": [
    "import numpy as np\n",
    "import os\n",
    "path = os.path.join(os.getcwd(), \"pokemon_list.txt\")\n",
    "poke = np.genfromtxt(path,delimiter = \" \", dtype = \"str\", invalid_raise=False)\n",
    "print (type (poke))"
   ]
  },
  {
   "cell_type": "code",
   "execution_count": 30,
   "metadata": {},
   "outputs": [
    {
     "name": "stdout",
     "output_type": "stream",
     "text": [
      "[('Bulbasaur', 'Gräs/Gift,1'), ('Ivysaur', 'Gräs/Gift,2'), ('Venusaur', 'Gräs/Gift,3'), ('Charmander', 'Eld,4'), ('Charmeleon', 'Eld,5'), ('Charizard', 'Eld/Flygande,6'), ('Squirtle', 'Vatten,7'), ('Wartortle', 'Vatten,8'), ('Blastoise', 'Vatten,9'), ('Caterpie', 'Insekt,10')]\n",
      "Spöke/Gift,94 Elektrisk,25 Psykisk,122\n"
     ]
    }
   ],
   "source": [
    "import os\n",
    "path = os.path.join(os.getcwd(), \"pokemon_list.txt\")\n",
    "poke = {}\n",
    "with open(path,\"r\",encoding=\"utf-8\",) as f:\n",
    "    for line in f:\n",
    "        parts = line.strip().split()\n",
    "        if len(parts) == 4:\n",
    "            parts[1] = parts[1]+parts[2]\n",
    "            parts.pop (2)\n",
    "        poke.update({parts[1]:f\"{parts[2]+\",\"+parts[0]}\"})    \n",
    "    print ((list(poke.items())[:10]))\n",
    "print (poke[\"Gengar\"], poke[\"Pikachu\"],poke[\"Mr.Mime\"])"
   ]
  },
  {
   "cell_type": "markdown",
   "metadata": {},
   "source": [
    "---\n",
    "## 4. Morse code (**)\n",
    "\n",
    "Read in the file morse.txt, save it in a dictionary and create a function that lets the user input a message to get it translated to morse code. For example  (**)\n",
    "\n",
    "```python\n",
    "\n",
    "print(morse(\"SOS\"))\n",
    "print(morse(\"POKEMON\"))\n",
    "\n",
    "...---...\n",
    ".------.-.------.\n",
    "```"
   ]
  },
  {
   "cell_type": "code",
   "execution_count": 3,
   "metadata": {},
   "outputs": [
    {
     "name": "stdout",
     "output_type": "stream",
     "text": [
      "morse code is ...---...\n"
     ]
    }
   ],
   "source": [
    "import os\n",
    "morse_code = {}\n",
    "path = os.path.join(os.getcwd(),\"morse.txt\")\n",
    "with open (path,\"r\") as f:\n",
    "    for line in f:\n",
    "        line = line.strip().split(\":\")\n",
    "        morse_code.update({line[0]:line[1].strip()})\n",
    "\n",
    "def translate_morse(a):\n",
    "    code=\"\"\n",
    "    a = a.strip().upper()\n",
    "    for i in range (len(a)):\n",
    "        code = code + morse_code[a[i]]\n",
    "    print (f\"morse code is {code}\")\n",
    "\n",
    "x = input(\"Please enter word\")\n",
    "translate_morse(x)\n"
   ]
  },
  {
   "cell_type": "markdown",
   "metadata": {},
   "source": [
    "---\n",
    "\n",
    "pr0fez Giang\n",
    "\n",
    "[LinkedIn][linkedIn_pr0fez]\n",
    "\n",
    "[GitHub portfolio][github_portfolio]\n",
    "\n",
    "[linkedIn_pr0fez]: https://www.linkedin.com/in/pr0fezgiang/\n",
    "[github_portfolio]: https://github.com/pr0fez/Portfolio-pr0fez-Giang\n",
    "\n",
    "---"
   ]
  }
 ],
 "metadata": {
  "kernelspec": {
   "display_name": ".venv",
   "language": "python",
   "name": "python3"
  },
  "language_info": {
   "codemirror_mode": {
    "name": "ipython",
    "version": 3
   },
   "file_extension": ".py",
   "mimetype": "text/x-python",
   "name": "python",
   "nbconvert_exporter": "python",
   "pygments_lexer": "ipython3",
   "version": "3.13.7"
  },
  "orig_nbformat": 4
 },
 "nbformat": 4,
 "nbformat_minor": 2
}
