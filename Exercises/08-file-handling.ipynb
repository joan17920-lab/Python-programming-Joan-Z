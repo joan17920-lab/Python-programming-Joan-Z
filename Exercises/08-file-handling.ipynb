{
 "cells": [
  {
   "cell_type": "markdown",
   "metadata": {},
   "source": [
    "<a href=\"https://colab.research.google.com/github/pr0fez/AI24-Programmering/blob/master/Exercises/08-file-handling.ipynb\" target=\"_parent\"><img align=\"left\" src=\"https://colab.research.google.com/assets/colab-badge.svg\" alt=\"Open In Colab\"/></a> &nbsp; to see hints and answers."
   ]
  },
  {
   "cell_type": "markdown",
   "metadata": {},
   "source": [
    "# file handling exercises\n",
    "\n",
    "---\n",
    "These are introductory exercises in Python with focus in **file handling**.\n",
    "\n",
    "All files needed for these exercises can be found in the **files** folder in this repo. Clone the repo to access them.\n",
    "\n",
    "<p class = \"alert alert-info\" role=\"alert\"><b>Remember</b> to use <b>descriptive variable and function names</b> in order to get readable code </p>\n",
    "\n",
    "<p class = \"alert alert-info\" role=\"alert\"><b>Remember</b> to format your answers in a neat way using <b>f-strings</b>\n",
    "\n",
    "<p class = \"alert alert-info\" role=\"alert\"><b>Remember</b> to format your input questions in a pedagogical way to guide the user\n",
    "\n",
    "The number of stars (\\*), (\\*\\*), (\\*\\*\\*) denotes the difficulty level of the task\n",
    "\n",
    "---"
   ]
  },
  {
   "cell_type": "markdown",
   "metadata": {},
   "source": [
    "## 1. Dice rolls (*)\n",
    "Create a textfile called **dice_rolls.txt** using Python. Also for each subtask, write adequate headers. \n",
    "\n",
    "&nbsp; a) &nbsp; Simulate 20 dice rolls and write them to your textfile. (*)\n",
    "\n",
    "&nbsp; b) &nbsp; Sort the dice rolls from a) and write them to a separate row in the same textfile. (*)\n",
    "\n",
    "&nbsp; c) &nbsp; Count the number of fours in the dice rolls and write them to a separate row in the same textfile. (*)\n",
    "\n",
    "<details>\n",
    "\n",
    "<summary>Answer </summary>\n",
    "\n",
    "For example: \n",
    "\n",
    "```\n",
    "\n",
    "Simulate 20 dice rolls:\n",
    "[3 4 4 3 1 2 6 6 4 6 2 4 5 3 1 2 1 3 3 1]\n",
    "\n",
    "Sorted dice rolls:\n",
    "[1 1 1 1 2 2 2 3 3 3 3 3 4 4 4 4 5 6 6 6]\n",
    "\n",
    "Number of fours: 4\n",
    "\n",
    "```\n",
    "\n",
    "</details>"
   ]
  },
  {
   "cell_type": "code",
   "execution_count": null,
   "metadata": {},
   "outputs": [
    {
     "name": "stdout",
     "output_type": "stream",
     "text": [
      "<class 'list'>\n",
      "Simulate 20 dice rolls:\n",
      "[5, 3, 2, 4, 4, 1, 6, 3, 6, 6, 5, 1, 3, 2, 1, 5, 6, 3, 2, 4]\n",
      "Sorted dice rolls:\n",
      "[1, 1, 1, 2, 2, 2, 3, 3, 3, 3, 4, 4, 4, 5, 5, 5, 6, 6, 6, 6]\n",
      "Number of fours: 3\n"
     ]
    },
    {
     "ename": "",
     "evalue": "",
     "output_type": "error",
     "traceback": [
      "\u001b[1;31mThe Kernel crashed while executing code in the current cell or a previous cell. \n",
      "\u001b[1;31mPlease review the code in the cell(s) to identify a possible cause of the failure. \n",
      "\u001b[1;31mClick <a href='https://aka.ms/vscodeJupyterKernelCrash'>here</a> for more info. \n",
      "\u001b[1;31mView Jupyter <a href='command:jupyter.viewOutput'>log</a> for further details."
     ]
    }
   ],
   "source": [
    "import random as rnd\n",
    "f= open(\"dice_rolls.txt\",\"x\")\n",
    "a = [rnd.randint(1,7) for _ in range(20)]\n",
    "with open (\"dice_rolls.txt\",\"a\") as f:\n",
    "    f.write (f\"Simulate 20 dice rolls:\\n{a}\")\n",
    "a.sort()\n",
    "print (type(a))\n",
    "with open(\"dice_rolls.txt\",\"a\") as f:\n",
    "    f.write(f\"\\nSorted dice rolls:\\n{a}\")\n",
    "b = sum(1 for i in a if i == 4)\n",
    "with open(\"dice_rolls.txt\", \"a\") as f_w:\n",
    "    f_w.write(f\"\\nNumber of fours: {b}\")\n",
    "with open(\"dice_rolls.txt\", \"r\") as f_r:\n",
    "    print (f_r.read())\n"
   ]
  },
  {
   "cell_type": "code",
   "execution_count": 12,
   "metadata": {},
   "outputs": [
    {
     "name": "stdout",
     "output_type": "stream",
     "text": [
      "[1, 1, 2, 2, 2, 2, 2, 3, 3, 3, 3, 3, 4, 4, 5, 5, 6, 6, 7, 7]\n",
      "<class 'list'>\n",
      "2\n"
     ]
    }
   ],
   "source": [
    "import random as rnd\n",
    "\n",
    "a = [rnd.randint(1,7) for _ in range(20)]\n",
    "a.sort()\n",
    "print (a)\n",
    "print (type(a))\n",
    "b = sum(1 for i in a if i == 4)\n",
    "print (b)\n"
   ]
  },
  {
   "cell_type": "markdown",
   "metadata": {},
   "source": [
    "---\n",
    "## 2. Test results (*)\n",
    "Read in the file test_result.txt (located in the data folder of this repo) in Python.\n",
    "\n",
    "[test_result]: https://github.com/pr0fez/Programmering-med-Python-21/blob/master/Files/test_result.txt\n",
    "\n",
    "&nbsp; a) &nbsp; Print out the text in the terminal (*)\n",
    "\n",
    "&nbsp; b) &nbsp; Create new rows in the same file and write the people and their corresponding scores in alphabetical order. (*)\n",
    "\n",
    "&nbsp; c) &nbsp; Create additional rows in the same file and sort the people after their grades. The grade limits are: (**)\n",
    "\n",
    "- F < 20\n",
    "- E: 20-29\n",
    "- D: 30-39\n",
    "- C: 40-49\n",
    "- B: 50-59\n",
    "- A: 60-70\n",
    "\n",
    "<details>\n",
    "\n",
    "<summary>Hint </summary>\n",
    "\n",
    "Open the file using option \"r\" for read and open the file using option \"a\" for append. \n",
    "\n",
    "</details>\n",
    "<br>\n",
    "<details>\n",
    "\n",
    "<summary>Answer </summary>\n",
    "\n",
    "```\n",
    "\n",
    "Adam Gustafsson 25\n",
    "Emil Johansson 23\n",
    "Sven Erik Karlsson 13\n",
    "Ove Karlsten 41\n",
    "Emma Boden 32\n",
    "Ida Håkansson 23\n",
    "Ella Ester 41\n",
    "Hanna Karlsson 23 \n",
    "Johan Johansson 42\n",
    "Sven Erik Lundin 39\n",
    "Björn Björnsson 39\n",
    "Karl Karlsson 32\n",
    "Bose Bosseson 32\n",
    "Håkan Håkanson 24\n",
    "Jonas Jonasson 31\n",
    "Erik Eriksson 31\n",
    "Gore Bord 55\n",
    "Jakob Kallander 65\n",
    "Fredrika Ulven 10\n",
    "\n",
    "Sorted alphabetically\n",
    "Adam Gustafsson 25\n",
    "Björn Björnsson 39\n",
    "Bose Bosseson 32\n",
    "Ella Ester 41\n",
    "Emil Johansson 23\n",
    "Emma Boden 32\n",
    "Erik Eriksson 31\n",
    "Fredrika Ulven 10\n",
    "Gore Bord 55\n",
    "Hanna Karlsson 23\n",
    "Håkan Håkanson 24\n",
    "Ida Håkansson 23\n",
    "Jakob Kallander 65\n",
    "Johan Johansson 42\n",
    "Jonas Jonasson 31\n",
    "Karl Karlsson 32\n",
    "Ove Karlsten 41\n",
    "Sven Erik Karlsson 13\n",
    "Sven Erik Lundin 39\n",
    "\n",
    "Sorted results: \n",
    "Grade: F\n",
    "Fredrika Ulven 10\n",
    "Sven Erik Karlsson 13\n",
    "Grade: E\n",
    "Adam Gustafsson 25\n",
    "Emil Johansson 23\n",
    "Hanna Karlsson 23\n",
    "Håkan Håkanson 24\n",
    "Ida Håkansson 23\n",
    "Grade: D\n",
    "Björn Björnsson 39\n",
    "Bose Bosseson 32\n",
    "Emma Boden 32\n",
    "Erik Eriksson 31\n",
    "Jonas Jonasson 31\n",
    "Karl Karlsson 32\n",
    "Sven Erik Lundin 39\n",
    "Grade: C\n",
    "Ella Ester 41\n",
    "Johan Johansson 42\n",
    "Ove Karlsten 41\n",
    "Grade: B\n",
    "Gore Bord 55\n",
    "Grade: A\n",
    "Jakob Kallander 65\n",
    "\n",
    "```\n",
    "\n",
    "</details>"
   ]
  },
  {
   "cell_type": "code",
   "execution_count": null,
   "metadata": {},
   "outputs": [],
   "source": [
    "with open (\"test_result.txt\", \"r\") as f:\n",
    "    text = [i.strip(\"\\n\") for i in f.readlines()]\n",
    "    text.sort()\n",
    "\n",
    "with open (\"test_result.txt\", \"w\",) as f:\n",
    "    f.write(\"Sorted alphabetically\\n\")\n",
    "    f.write(\"\\n\".join(text)+\"\\n\")\n",
    "\n",
    "\n"
   ]
  },
  {
   "cell_type": "markdown",
   "metadata": {},
   "source": [
    "---\n",
    "## 3. National test (*)\n",
    "Read in the file NPvt19Ma2A.txt and NPvt19Ma2C.txt (located in the data folder of this repo) in Python. Use **matplotlib** to plot pie charts for each grade categories in each file. (*)\n",
    "\n",
    "[files]: https://github.com/pr0fez/Programmering-med-Python-21/tree/master/Files\n",
    "\n",
    "<details>\n",
    "\n",
    "<summary>Hint </summary>\n",
    "\n",
    "Use **subplot** in **matplotlib**\n",
    "\n",
    "</details>\n",
    "<br>\n",
    "<details>\n",
    "\n",
    "<summary>Answer </summary>\n",
    "\n",
    "<img align=\"left\" src=\"../assets/NP.png\" width=\"300\"/>\n",
    "\n",
    "</details>"
   ]
  },
  {
   "cell_type": "code",
   "execution_count": null,
   "metadata": {},
   "outputs": [],
   "source": []
  },
  {
   "cell_type": "code",
   "execution_count": 36,
   "metadata": {},
   "outputs": [
    {
     "name": "stdout",
     "output_type": "stream",
     "text": [
      "[ 0.   0.   2.4  5.3 37.3 55. ]\n"
     ]
    },
    {
     "data": {
      "text/plain": [
       "([<matplotlib.patches.Wedge at 0x1d3d3f938c0>,\n",
       "  <matplotlib.patches.Wedge at 0x1d3d3f9e0d0>,\n",
       "  <matplotlib.patches.Wedge at 0x1d3d3f9e350>,\n",
       "  <matplotlib.patches.Wedge at 0x1d3d3f9e5d0>,\n",
       "  <matplotlib.patches.Wedge at 0x1d3d3f9e850>,\n",
       "  <matplotlib.patches.Wedge at 0x1d3d3f9ead0>],\n",
       " [Text(1.1, 0.0, 'A'),\n",
       "  Text(1.1, 0.0, 'B'),\n",
       "  Text(1.0968747898411895, 0.08285949197796602, 'C'),\n",
       "  Text(1.0450891012061072, 0.34320368666465595, 'D'),\n",
       "  Text(-0.09319351399917283, 1.0960451491377927, 'E'),\n",
       "  Text(-0.17207745003216413, -1.0864572477508851, 'F')])"
      ]
     },
     "execution_count": 36,
     "metadata": {},
     "output_type": "execute_result"
    },
    {
     "data": {
      "image/png": "[encoded data removed]",
      "text/plain": [
       "<Figure size 640x480 with 1 Axes>"
      ]
     },
     "metadata": {},
     "output_type": "display_data"
    }
   ],
   "source": [
    "import matplotlib.pyplot as plt\n",
    "import numpy as np\n",
    "with open (\"NPvt19Ma2A.txt\",\"r\") as f_ma:\n",
    "    a = [i.strip(\"\\n\") for i in f_ma.readlines()]\n",
    "    \n",
    "a = [a[i].split() for i in range((len(a)))]\n",
    "a = np.array(a)\n",
    "label = a[:,0]\n",
    "value = np.char.replace(a[:,1],\"%\",\"\").astype(float)\n",
    "print (value)\n",
    "plt.pie(x=value,labels=label)"
   ]
  },
  {
   "cell_type": "markdown",
   "metadata": {},
   "source": [
    "---\n",
    "## 4. Dice roll experiment (**)\n",
    "Simulate 10, 100, 1000, 10000, 100000 dice rolls and count the freqencies and probabilities for each number in each simulation. Create a new text file using Python with the name \"simulation.txt\" and write the results to that text file.(**)\n",
    "\n",
    "[files]: https://github.com/pr0fez/Programmering-med-Python-21/tree/master/Files\n",
    "\n",
    "<details>\n",
    "\n",
    "<summary>Answer </summary>\n",
    "\n",
    "```\n",
    "\n",
    "Number of rolls: 10 \n",
    "Ones: 4, probability: 0.4\n",
    "Twos: 1, probability: 0.1\n",
    "Threes: 1, probability: 0.1\n",
    "Fours: 2, probability: 0.2\n",
    "Fives: 1, probability: 0.1\n",
    "Sixes: 1, probability: 0.1\n",
    "\n",
    "Number of rolls: 100 \n",
    "Ones: 16, probability: 0.16\n",
    "Twos: 12, probability: 0.12\n",
    "Threes: 24, probability: 0.24\n",
    "Fours: 18, probability: 0.18\n",
    "Fives: 16, probability: 0.16\n",
    "Sixes: 14, probability: 0.14\n",
    "\n",
    "Number of rolls: 1000 \n",
    "Ones: 181, probability: 0.181\n",
    "Twos: 167, probability: 0.167\n",
    "Threes: 184, probability: 0.184\n",
    "Fours: 152, probability: 0.152\n",
    "Fives: 168, probability: 0.168\n",
    "Sixes: 148, probability: 0.148\n",
    "\n",
    "Number of rolls: 10000 \n",
    "Ones: 1630, probability: 0.163\n",
    "Twos: 1666, probability: 0.1666\n",
    "Threes: 1686, probability: 0.1686\n",
    "Fours: 1616, probability: 0.1616\n",
    "Fives: 1677, probability: 0.1677\n",
    "Sixes: 1725, probability: 0.1725\n",
    "\n",
    "Number of rolls: 100000 \n",
    "Ones: 16804, probability: 0.16804\n",
    "Twos: 16625, probability: 0.16625\n",
    "Threes: 16646, probability: 0.16646\n",
    "Fours: 16660, probability: 0.1666\n",
    "Fives: 16576, probability: 0.16576\n",
    "Sixes: 16689, probability: 0.16689\n",
    "\n",
    "```"
   ]
  },
  {
   "cell_type": "markdown",
   "metadata": {},
   "source": [
    "---\n",
    "\n",
    "pr0fez Giang\n",
    "\n",
    "[LinkedIn][linkedIn_pr0fez]\n",
    "\n",
    "[GitHub portfolio][github_portfolio]\n",
    "\n",
    "[linkedIn_pr0fez]: https://www.linkedin.com/in/pr0fezgiang/\n",
    "[github_portfolio]: https://github.com/pr0fez/Portfolio-pr0fez-Giang\n",
    "\n",
    "---"
   ]
  }
 ],
 "metadata": {
  "kernelspec": {
   "display_name": ".venv",
   "language": "python",
   "name": "python3"
  },
  "language_info": {
   "codemirror_mode": {
    "name": "ipython",
    "version": 3
   },
   "file_extension": ".py",
   "mimetype": "text/x-python",
   "name": "python",
   "nbconvert_exporter": "python",
   "pygments_lexer": "ipython3",
   "version": "3.13.7"
  },
  "orig_nbformat": 4
 },
 "nbformat": 4,
 "nbformat_minor": 2
}
