{
 "cells": [
  {
   "cell_type": "markdown",
   "metadata": {},
   "source": [
    "<a href=\"https://colab.research.google.com/github/pr0fez/AI24-Programmering/blob/master/Exercises/02-while-statement-exercise.ipynb\" target=\"_parent\"><img align=\"left\" src=\"https://colab.research.google.com/assets/colab-badge.svg\" alt=\"Open In Colab\"/></a> &nbsp; to see hints and answers."
   ]
  },
  {
   "cell_type": "markdown",
   "metadata": {},
   "source": [
    "# while statement exercises\n",
    "\n",
    "---\n",
    "These are introductory exercises in Python with focus in **while** statement.\n",
    "\n",
    "<p class = \"alert alert-info\" role=\"alert\"><b>Remember</b> to use <b>descriptive variable names</b> in order to get readable code </p>\n",
    "\n",
    "<p class = \"alert alert-info\" role=\"alert\"><b>Remember</b> to format your answers in a neat way using <b>f-strings</b>\n",
    "\n",
    "<p class = \"alert alert-info\" role=\"alert\"><b>Remember</b> to format your input questions in a pedagogical way to guide the user\n",
    "\n",
    "The number of stars (\\*), (\\*\\*), (\\*\\*\\*) denotes the difficulty level of the task\n",
    "\n",
    "---"
   ]
  },
  {
   "cell_type": "markdown",
   "metadata": {},
   "source": [
    "## 1. Count numbers (*)\n",
    "\n",
    "Use a **while** statement to count from -10 to 10 with one increment. \n",
    "\n",
    "<details>\n",
    "\n",
    "<summary>Hint </summary>\n",
    "\n",
    "```python\n",
    "\n",
    "i += 1 # adds one and assigns it to i, equivalent to i = i + 1\n",
    "```\n",
    "\n",
    "</details>\n",
    "<br>\n",
    "<details>\n",
    "\n",
    "<summary>Answer </summary>\n",
    "\n",
    "```\n",
    "\n",
    "-10 -9 -8 -7 -6 -5 -4 -3 -2 -1 0 1 2 3 4 5 6 7 8 9 10\n",
    "```\n",
    "\n",
    "</details>\n"
   ]
  },
  {
   "cell_type": "code",
   "execution_count": 18,
   "metadata": {},
   "outputs": [
    {
     "name": "stdout",
     "output_type": "stream",
     "text": [
      "-10 -9 -8 -7 -6 -5 -4 -3 -2 -1 0 1 2 3 4 5 6 7 8 9 10 "
     ]
    }
   ],
   "source": [
    "i = -10\n",
    "while i <= 10:\n",
    "    print (i, end=' ')\n",
    "    i+=1 "
   ]
  },
  {
   "cell_type": "markdown",
   "metadata": {},
   "source": [
    "--- \n",
    "## 2. Arithmetic sum (*)\n",
    "Use a **while** statement to compute the following sums: \n",
    "\n",
    "&nbsp; a) &nbsp; $\\text{sum} = 1 + 2 + \\ldots + 99+ 100$\n",
    "\n",
    "&nbsp; b) &nbsp; $\\text{sum} = 1 + 3 + 5 + \\ldots + 97 + 99$\n",
    "\n",
    "<details>\n",
    "\n",
    "<summary>Answer </summary>\n",
    "\n",
    "```\n",
    "a) 1 + 2 + ... + 99 + 100 = 5050 \n",
    "\n",
    "b) 1 + 3 + 5 +...+ 97 + 99 = 2500\n",
    "```\n",
    "\n",
    "</details>"
   ]
  },
  {
   "cell_type": "code",
   "execution_count": 36,
   "metadata": {},
   "outputs": [
    {
     "name": "stdout",
     "output_type": "stream",
     "text": [
      "5050\n",
      "2500\n"
     ]
    }
   ],
   "source": [
    "i = 1\n",
    "n = 0\n",
    "while i <= 100:\n",
    "    n = n + i\n",
    "    i += 1\n",
    "   \n",
    "print (n)\n",
    "\n",
    "i = 1\n",
    "n = 0\n",
    "while i <=99:\n",
    "    n = n + i\n",
    "    i += 2\n",
    "print (n)\n"
   ]
  },
  {
   "cell_type": "code",
   "execution_count": 45,
   "metadata": {},
   "outputs": [
    {
     "name": "stdout",
     "output_type": "stream",
     "text": [
      "5050\n"
     ]
    }
   ],
   "source": [
    "\n",
    "print (sum(range(1,101)))"
   ]
  },
  {
   "cell_type": "markdown",
   "metadata": {},
   "source": [
    "--- \n",
    "## 3. Guess number game (*)\n",
    "&nbsp; a) &nbsp; Create a guessing number game following this flow chart: \n",
    "\n",
    "<img align=\"left\" src=\"../assets/guessing_game.png\" width=\"300\"/>"
   ]
  },
  {
   "cell_type": "markdown",
   "metadata": {},
   "source": [
    "&nbsp; b) &nbsp; Make an algorithm to automatically guess the correct number. Can you optimize to get as few guesses as possible? (**)\n",
    "\n",
    "<details>\n",
    "\n",
    "<summary>Hint </summary>\n",
    "\n",
    "&nbsp; b) &nbsp; Half your testing number each time \n",
    "\n",
    "</details>"
   ]
  },
  {
   "cell_type": "code",
   "execution_count": 58,
   "metadata": {},
   "outputs": [
    {
     "name": "stdout",
     "output_type": "stream",
     "text": [
      "It is smaller \n",
      " It is bigger \n",
      "It is smaller \n",
      " It is bigger \n",
      " It is bigger \n",
      " It is bigger \n",
      " It is bigger \n",
      " Congratulation, you win\n"
     ]
    }
   ],
   "source": [
    "import random\n",
    "\n",
    "i = random.randint(1,100)\n",
    "\n",
    "while True:\n",
    "    n = input (\"Please enter en integer between 1-100\")\n",
    "    n = int(n)\n",
    "    if n == i:\n",
    "        print (f\" Congratulation, you win\")\n",
    "        break\n",
    "    elif n < i:\n",
    "        print (\"It is smaller \")\n",
    "    else:\n",
    "        print (\" It is bigger \")\n",
    "\n",
    "\n"
   ]
  },
  {
   "cell_type": "code",
   "execution_count": 18,
   "metadata": {},
   "outputs": [
    {
     "name": "stdout",
     "output_type": "stream",
     "text": [
      "100 89 2\n",
      "75 89 3\n",
      "88 89 4\n",
      "94 89 5\n",
      "91 89 6\n",
      "89 89 7\n",
      "89 is the number.\n",
      "75\n",
      "88.0\n",
      "95.0\n",
      "91.0\n",
      "89.0\n",
      "Congratulations, you guessed correct after 12 guesses!\n"
     ]
    }
   ],
   "source": [
    "import random\n",
    "import numpy as np\n",
    "\n",
    "i = random.randint(1,100)\n",
    "n = 1\n",
    "m = 50\n",
    "while True:\n",
    "    \n",
    "    if m == i:\n",
    "        print (f\"{m} is the number.\") \n",
    "        break\n",
    "    elif m > i:\n",
    "        m = round(m - 100/(2**n))\n",
    "    elif m < i:\n",
    "        m = round (m + 100/(2**n))\n",
    "    n +=1\n",
    "    print (m,i, n)\n",
    "    \n",
    "guess = 50\n",
    "d = guess // 2\n",
    "while True: \n",
    "    if guess == i:\n",
    "        print(f\"Congratulations, you guessed correct after {n} guesses!\")\n",
    "        break\n",
    "    else:\n",
    "        if guess < i:\n",
    "            guess += d\n",
    "            d = np.ceil(d / 2)\n",
    "            n += 1\n",
    "        elif guess > i:\n",
    "            guess -= d\n",
    "            d = np.ceil(d/2)\n",
    "            n += 1\n",
    "    print (guess)"
   ]
  },
  {
   "cell_type": "code",
   "execution_count": 17,
   "metadata": {},
   "outputs": [
    {
     "name": "stdout",
     "output_type": "stream",
     "text": [
      "25 9\n",
      "12.0 9\n",
      "5.0 9\n",
      "9.0 9\n",
      "Congratulations, you guessed correct after 5 guesses!\n"
     ]
    }
   ],
   "source": [
    "import random\n",
    "import numpy as np\n",
    "i = random.randint(1,100)\n",
    "n = 1\n",
    "\n",
    "\n",
    "guess = 50\n",
    "d = guess // 2\n",
    "while True: \n",
    "    if guess == i:\n",
    "        print(f\"Congratulations, you guessed correct after {n} guesses!\")\n",
    "        break\n",
    "    else:\n",
    "        if guess < i:\n",
    "            guess += d\n",
    "            d = np.ceil(d / 2)\n",
    "            n += 1\n",
    "        elif guess > i:\n",
    "            guess -= d\n",
    "            d = np.ceil(d/2)\n",
    "            n += 1\n",
    "    print (guess,i)"
   ]
  },
  {
   "cell_type": "markdown",
   "metadata": {},
   "source": [
    "--- \n",
    "## 4. Multiplication game (*)\n",
    "&nbsp; a) &nbsp; Create a multiplication game following this flow chart: \n",
    "\n",
    "<img align=\"left\" src=\"../assets/Multiplication_game.png\" width=\"300\"/>"
   ]
  },
  {
   "cell_type": "markdown",
   "metadata": {},
   "source": [
    "&nbsp; b) &nbsp; Add a menu for choosing difficulty level of the game\n",
    "\n",
    "&nbsp; c) &nbsp; Feel free to extend this program with features of your choice."
   ]
  },
  {
   "cell_type": "code",
   "execution_count": null,
   "metadata": {},
   "outputs": [],
   "source": [
    "import random as rnd\n",
    "\n",
    "score = 0\n",
    "while True:\n",
    "    x,y = rnd.randint (1,10), rnd.randint(1,10)\n",
    "    i = input (f\" Please answer the question {x}*{y}=\")\n",
    "    i = int (i)\n",
    "    if i == x*y:\n",
    "        score += 1\n",
    "        print (f\"Good work, you get 1 score!\")\n",
    "    else:\n",
    "        print (f\"Correct answer is {x*y}.\")\n",
    "    yes = input(\"Would you like play again (y/n)\") \n",
    "    if yes != \"y\":\n",
    "        print (f\"Bye, you get total {score} score! wilcome play again! \")\n",
    "        break\n"
   ]
  },
  {
   "cell_type": "code",
   "execution_count": 2,
   "metadata": {},
   "outputs": [
    {
     "name": "stdout",
     "output_type": "stream",
     "text": [
      "-----main menu------\n",
      "1. Easy\n",
      "2.Middle difficult\n",
      "3.Difficult\n",
      "4.Exit \n",
      "Bye, you get total 0 score! wilcome play again! \n"
     ]
    }
   ],
   "source": [
    "import random as rnd\n",
    "import operator\n",
    "\n",
    "score = 0\n",
    "while True:\n",
    "    print(\"-----main menu------\") \n",
    "    print (\"1. Easy\")\n",
    "    print (\"2.Middle difficult\")\n",
    "    print (\"3.Difficult\")\n",
    "    print (\"4.Exit \")\n",
    "\n",
    "    choice = input (\"Choose en option\")\n",
    "\n",
    "    match choice:\n",
    "        case \"1\":\n",
    "            x,y = rnd.randint (1,12), rnd.randint(1,12)\n",
    "                        \n",
    "        case \"2\":\n",
    "            x,y = rnd.randint (1,10), rnd.randint(12,100) \n",
    "                       \n",
    "        case \"3\":\n",
    "            x,y = rnd.randint (10,100), rnd.randint(10,100)\n",
    "                \n",
    "        case \"4\":\n",
    "            print (f\"Bye, you get total {score} score! wilcome play again! \")\n",
    "            break\n",
    "        case _:\n",
    "            print(\"Invalid choice, try again.\")\n",
    "            continue\n",
    "\n",
    "    i = input (f\" Please answer the question {x}*{y}=\")\n",
    "    i = int (i)\n",
    "    if i == x*y:\n",
    "        score += 1\n",
    "        print (f\"Good work, you get 1 score!\")\n",
    "    else:\n",
    "        print (f\"Corecct answer is {x*y}.\")"
   ]
  },
  {
   "cell_type": "markdown",
   "metadata": {},
   "source": [
    "--- \n",
    "## 5. Check convergence (**)\n",
    "Use a while statement to compute the following sums: \n",
    "\n",
    "&nbsp; a) &nbsp; $\\text{sum} = 1 + \\frac{1}{2} + \\frac{1}{4} + \\frac{1}{8} + \\dots + \\frac{1}{2^n}$\n",
    "\n",
    "&nbsp; b) &nbsp; $\\text{sum} = 1 - \\frac{1}{3} + \\frac{1}{5} - \\frac{1}{7} + \\dots + \\frac{(-1)^n}{2n+1}$\n",
    "\n",
    "Try different values on $n$ to see which value it converges to.\n",
    "\n",
    "<details>\n",
    "\n",
    "<summary>Answer </summary>\n",
    "\n",
    "&nbsp; a) &nbsp; $1 + \\frac{1}{2} + \\frac{1}{4} + \\frac{1}{8} + \\dots + \\frac{1}{2^n} \\xrightarrow[n\\rightarrow \\infty]{} 2$ \n",
    "\n",
    "&nbsp; b) &nbsp; $ 1 - \\frac{1}{3} + \\frac{1}{5} - \\frac{1}{7} + \\dots + \\frac{(-1)^n}{2n+1} \\xrightarrow[n\\rightarrow \\infty]{} \\frac{\\pi}{4}$\n",
    "\n",
    "</details>"
   ]
  },
  {
   "cell_type": "code",
   "execution_count": 47,
   "metadata": {},
   "outputs": [
    {
     "name": "stdout",
     "output_type": "stream",
     "text": [
      "2.0\n",
      "0.7866419367957389\n"
     ]
    }
   ],
   "source": [
    "m = int(input (\"Please enter en integer\"))\n",
    "n = 1\n",
    "x = 1\n",
    "while n <= m:\n",
    "    x = x + 1/(2**n)\n",
    "    n +=1\n",
    "print (x)\n",
    "\n",
    "n = 1\n",
    "y = 1\n",
    "while n <=m:\n",
    "    y = y + ((-1)**n)/(2*n+1)\n",
    "    n +=1\n",
    "print (y)"
   ]
  },
  {
   "cell_type": "code",
   "execution_count": 48,
   "metadata": {},
   "outputs": [
    {
     "name": "stdout",
     "output_type": "stream",
     "text": [
      "0.7866419367957389\n"
     ]
    }
   ],
   "source": [
    "import numpy as np\n",
    "n = 200\n",
    "x = sum([np.pow(-1.0, i) / (2*i+1) for i in range(n+1)])\n",
    "print (x)"
   ]
  },
  {
   "cell_type": "markdown",
   "metadata": {},
   "source": [
    "---\n",
    "\n",
    "pr0fez Giang\n",
    "\n",
    "[LinkedIn][linkedIn_pr0fez]\n",
    "\n",
    "[GitHub portfolio][github_portfolio]\n",
    "\n",
    "[linkedIn_pr0fez]: https://www.linkedin.com/in/pr0fezgiang/\n",
    "[github_portfolio]: https://github.com/pr0fez/Portfolio-pr0fez-Giang\n",
    "\n",
    "---"
   ]
  }
 ],
 "metadata": {
  "kernelspec": {
   "display_name": "Python 3",
   "language": "python",
   "name": "python3"
  },
  "language_info": {
   "codemirror_mode": {
    "name": "ipython",
    "version": 3
   },
   "file_extension": ".py",
   "mimetype": "text/x-python",
   "name": "python",
   "nbconvert_exporter": "python",
   "pygments_lexer": "ipython3",
   "version": "3.13.7"
  },
  "orig_nbformat": 4
 },
 "nbformat": 4,
 "nbformat_minor": 2
}
